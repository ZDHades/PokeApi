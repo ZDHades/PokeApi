{
 "cells": [
  {
   "cell_type": "code",
   "execution_count": 26,
   "metadata": {},
   "outputs": [],
   "source": [
    "import requests, pprint\n",
    "import json\n",
    "pp = pprint.PrettyPrinter(indent=4)\n",
    "\n",
    "class Pokemon:\n",
    "    _all = []\n",
    "    \n",
    "    def __init__(self):\n",
    "        self.name = None\n",
    "        self.abilities = None\n",
    "        self.type = None\n",
    "        self.weight = None\n",
    "        self._all.append(self)\n",
    "                \n",
    "    def from_dict(self, a_dict):\n",
    "        for field in [\"name\", 'abilities', 'type', 'weight']:\n",
    "            if field in a_dict:\n",
    "                setattr(self, field, a_dict[field])\n",
    "    \n",
    "    def get_pokemon(self):\n",
    "        return [_.name for _ in self._all]\n",
    "    \n",
    "    \n",
    "    def __repr__(self):\n",
    "        return f\"{self.name} -> {self.type}\"\n",
    "            \n",
    "class Pokedex:\n",
    "    _list = []\n",
    "    api = 'https://pokeapi.co/api/v2/pokemon'\n",
    "    \n",
    "    @classmethod\n",
    "    def generate_pokemon_from_api(self, pokemon):\n",
    "        r = requests.get(f'{self.api}/{pokemon}').json()\n",
    "        pokemon_dict = {\n",
    "            'name': r['name'].title(),\n",
    "            'abilities': [_['ability']['name'] for _ in r['abilities']],\n",
    "            'type': [_['type']['name']for _ in r['types']][0].title(),\n",
    "            'weight': r['weight']\n",
    "        }\n",
    "        p = Pokemon()\n",
    "        p.from_dict(pokemon_dict)\n",
    "        self._list.append(p)\n",
    "        \n",
    "    @classmethod\n",
    "    def sort_by_category(self):\n",
    "        category_dict = {}\n",
    "        for pokemon in self._list:\n",
    "            pokemon_dixt = {}\n",
    "            if pokemon.type not in category_dict:\n",
    "                category_dict[pokemon.type] = {}\n",
    "            category_dict[pokemon.type].update({\n",
    "                pokemon.name.title():{\n",
    "                    \"abilities\": pokemon.abilities,\n",
    "                    \"weight\": pokemon.weight\n",
    "                }\n",
    "            })\n",
    "        return category_dict\n",
    "    \n",
    "    @classmethod\n",
    "    def index(self):\n",
    "        return self._list"
   ]
  },
  {
   "cell_type": "code",
   "execution_count": null,
   "metadata": {},
   "outputs": [],
   "source": [
    "Pokedex.generate_pokemon_from_api(\"Pikachu\")"
   ]
  },
  {
   "cell_type": "code",
   "execution_count": 25,
   "metadata": {},
   "outputs": [
    {
     "data": {
      "text/plain": [
       "{'Electric': {'Pikachu': {'abilities': ['static', 'lightning-rod'],\n",
       "   'weight': 60}}}"
      ]
     },
     "execution_count": 25,
     "metadata": {},
     "output_type": "execute_result"
    }
   ],
   "source": [
    "Pokedex.sort_by_category()"
   ]
  }
 ],
 "metadata": {
  "kernelspec": {
   "display_name": "Python 3",
   "language": "python",
   "name": "python3"
  },
  "language_info": {
   "codemirror_mode": {
    "name": "ipython",
    "version": 3
   },
   "file_extension": ".py",
   "mimetype": "text/x-python",
   "name": "python",
   "nbconvert_exporter": "python",
   "pygments_lexer": "ipython3",
   "version": "3.8.3"
  }
 },
 "nbformat": 4,
 "nbformat_minor": 4
}
